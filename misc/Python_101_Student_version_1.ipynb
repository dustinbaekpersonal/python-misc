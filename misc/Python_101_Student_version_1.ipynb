{
  "cells": [
    {
      "attachments": {},
      "cell_type": "markdown",
      "metadata": {
        "id": "vA_hVGA0S_-r"
      },
      "source": [
        "# Python 101\n",
        "\n",
        "This Jupyter notebook contains all the code that we will go through today. There are some exercises and quizzes to get you coding as we go along and to test your knowledge of the topics.\n",
        "\n",
        "Jupyter notebooks are made up of cells (like this one). They are popular amongst data scientists as they allow a mix of text and code, which can be helpful to provide explanations around what code does. To run the code in a cell, make sure you have that cell selected and hit `SHIFT + ENTER`.\n",
        "\n",
        "## 0. Contents\n",
        "\n",
        "- 1. [Basic Commands](#s1)\n",
        "    - 1.1 [Variable Assignment](#s1.1)\n",
        "    - 1.2 [Python operators](#s1.2)\n",
        "- 2. [Data Types](#s2)\n",
        "    - 2.1 [Basic data types](#s2.1)\n",
        "    - 2.2 [Lists](#s2.2)\n",
        "    - 2.3 [Tuples](#s2.3)\n",
        "    - 2.4 [Sets](#s2.4)\n",
        "    - 2.5 [Dictionaries](#s2.5)\n",
        "    - 2.6 [Summary](#summary1)\n",
        "- 3. [Control Flows](#s3)\n",
        "    - 3.1 [For loops](#s3.1)\n",
        "    - 3.2 [If statements](#s3.2)\n",
        "    - 3.3 [While statements](#s3.3)\n",
        "- 4. [Functions](#s4)\n",
        "- 5. [Other useful features](#s5)\n",
        "    - 5.1 [Exception handling](#s5.1)\n",
        "    - 5.2 [String formatting](#s5.2)\n",
        "    - 5.3 [Lambda functions](#s5.3)\n",
        "- 6. [Summary](#summary2)\n",
        "- 7. [Exercise](#s7)"
      ]
    },
    {
      "attachments": {},
      "cell_type": "markdown",
      "metadata": {
        "id": "hPXcpAQpS_-s"
      },
      "source": [
        "<a id='s1'></a>\n",
        "## 1. Basic Commands\n",
        "\n",
        "<a id='s1.1'></a>\n",
        "### 1.1. Variable Assignment\n",
        "\n",
        "Variables are how you can store and access pieces of information (data) in Python.\n",
        "\n",
        "Variables names can be formed from all letters and numbers as well as the underscore character '_'. White space and other symbols are not allowed and variables cannot start with a number.\n",
        "\n",
        "For most applications, good style is to name variables using lowercase, using underscores where necessary to improve readability."
      ]
    },
    {
      "cell_type": "code",
      "execution_count": 1,
      "metadata": {},
      "outputs": [],
      "source": [
        "x=5"
      ]
    },
    {
      "cell_type": "code",
      "execution_count": 2,
      "metadata": {
        "id": "5qy-HBp8S_-s"
      },
      "outputs": [],
      "source": [
        "# Comments in python are written after the hash key, like this!\n",
        "# Store 5 in a variable named x.\n",
        "x = 5\n",
        "\n",
        "# Store 3.14 in a variable named f.\n",
        "f = 3.14\n",
        "\n",
        "# Store \"Hello, world!\" in a variable named w.\n",
        "w = \"Hello, world!\"\n",
        "\n",
        "# Store True in a variable named t\n",
        "t = True\n",
        "\n",
        "# You can simultaneously assign a single value to several variables.\n",
        "a = b = c = 1"
      ]
    },
    {
      "attachments": {},
      "cell_type": "markdown",
      "metadata": {
        "id": "fAoj8zGNS_-t"
      },
      "source": [
        "<a id='s1.2'></a>\n",
        "### 1.2 Python operators\n",
        "\n",
        "#### 1.2.1 Arithmetic operators\n",
        "\n",
        "Python has all of the main mathematical operations prebuilt into the language. The table below details the main ones.\n",
        "\n",
        "| Symbol | Operator | Example |\n",
        "|------|------|-----|\n",
        "|   +  | Addition | 2 + 2 = 4 |\n",
        "|   -  | Subtraction | 4 - 1 = 3 |\n",
        "|   *  | Multiplication | 2 * 3 = 6 |\n",
        "|   /  | Division | 8 / 2 = 4 |\n",
        "|   %  | Modulus (gives the remainder) | 8 % 3 = 2 |\n",
        "|   \\*\\*  | Exponent | 2\\*\\*3 = 8 |\n",
        "|   //  | Floor Division | 9 // 2 = 4 |\n",
        "\n",
        "These can be used in combination with the variables defined in the previous section to do some basic arithmetic"
      ]
    },
    {
      "cell_type": "code",
      "execution_count": null,
      "metadata": {
        "id": "qq-Tzzp8S_-t",
        "outputId": "a0ed5f4a-9695-4ba1-a637-87604703b4f1"
      },
      "outputs": [
        {
          "name": "stdout",
          "output_type": "stream",
          "text": [
            "x + 5 = 10\n",
            "x - 5 = 0\n",
            "x * 2 = 25\n",
            "x / f = 1.592356687898089\n",
            "x % f = 1.8599999999999999\n",
            "x**4 = 625\n",
            "x//f = 1.0\n"
          ]
        }
      ],
      "source": [
        "# The print() command prints the contents of the parentheses to the console.\n",
        "\n",
        "# Different items to be printed are separated by a comma.\n",
        "print(\"x + 5 =\", x + 5)\n",
        "print(\"x - 5 =\", x - 5)\n",
        "print(\"x * 2 =\", x * 5)\n",
        "print(\"x / f =\", x / f)\n",
        "print(\"x % f =\", x % f)\n",
        "print(\"x**4 =\", x**4)\n",
        "print(\"x//f =\", x//f)"
      ]
    },
    {
      "attachments": {},
      "cell_type": "markdown",
      "metadata": {
        "id": "7SMGXJR7S_-t"
      },
      "source": [
        "#### 1.2.2 Comparison operators\n",
        "\n",
        "These operators are used (unsurprisingly!) to compare two values. The table below describes the main ones.\n",
        "\n",
        "| Symbol | Operator |\n",
        "|------|------|\n",
        "|   <  | Less than |\n",
        "|   <=  | Less than or equal |\n",
        "|   ==  | Equal to |\n",
        "|   >  | Greater than |\n",
        "|   >=  | Greater than or equal to |\n",
        "|   !=  | Not equal |\n",
        "|   <>  | Not equal |\n",
        "\n",
        "These aren't just for numbers, text can also be compared - less than or greater than refers to the alphabetical order of the text (although lowercase and uppercase are treated differently)."
      ]
    },
    {
      "cell_type": "code",
      "execution_count": null,
      "metadata": {
        "id": "3up05KriS_-t",
        "outputId": "ebb7ec07-1dd5-4120-f129-1b200cb54e97"
      },
      "outputs": [
        {
          "name": "stdout",
          "output_type": "stream",
          "text": [
            "Is x < 6? True \n",
            "\n",
            "Is 'a' < 'z'? True\n",
            "Is 'A' < 'a'? True \n",
            "\n",
            "Is 3 == 3? True\n",
            "3 is 3? True \n",
            "\n",
            "Is 3 != 3? False\n",
            "3 is not 3? False\n"
          ]
        }
      ],
      "source": [
        "print(\"Is x < 6?\", x < 6, \"\\n\")\n",
        "\n",
        "# Letters earlier in the alphabet are \"<\" later letters\n",
        "print(\"Is 'a' < 'z'?\", \"A\" < \"z\")\n",
        "\n",
        "# Uppercase letters are \"<\" lowercase ones.\n",
        "print(\"Is 'A' < 'a'?\", \"A\" < \"a\", \"\\n\")\n",
        "\n",
        "# Testing identity\n",
        "print(\"Is 3 == 3?\", 3 == 3)\n",
        "# Alternatively\n",
        "print(\"3 is 3?\", 3 is 3, \"\\n\")\n",
        "print(\"Is 3 != 3?\", 3 != 3)\n",
        "print(\"3 is not 3?\", 3 is not 3)"
      ]
    },
    {
      "attachments": {},
      "cell_type": "markdown",
      "metadata": {
        "id": "51b1RBOrS_-t"
      },
      "source": [
        "#### 1.2.3 Logical operators\n",
        "\n",
        "Logical operators return Boolean values when used in a decision structure. There are three of them: **and**, **or**, and **not**.\n",
        "\n",
        "\n",
        "| Symbol | Operator |\n",
        "|------|------|\n",
        "|   and  | logical AND |\n",
        "|   or  | logical OR |\n",
        "|   not  | logical NOT |\n",
        "\n",
        "#### Quiz\n",
        "\n",
        "What are the resulting Booleans of the following phrases?\n",
        "\n",
        "```python\n",
        "3 + 1 is 4\n",
        "\"Cat\" != \"Dog\"\n",
        "10 % 2 <= 2\n",
        "len(\"Cat\") == len(\"Dog\")\n",
        "3 < int(3.14)\n",
        "```\n",
        "Hint: The len() function determines the length of a string\n",
        "\n",
        "#### Answers\n",
        "\n",
        "To find the answers uncomment the next cell by highlighting all of the text and pressing `CTRL/COMMAND + /`"
      ]
    },
    {
      "cell_type": "code",
      "execution_count": 14,
      "metadata": {
        "colab": {
          "base_uri": "https://localhost:8080/"
        },
        "id": "FphAIUg7S_-t",
        "outputId": "88c9ca27-ef37-4366-bf0f-fd92f66c04b0"
      },
      "outputs": [
        {
          "name": "stdout",
          "output_type": "stream",
          "text": [
            "True\n"
          ]
        }
      ],
      "source": [
        "a=255\n",
        "b=256\n",
        "print(a + 1 is b)\n",
        "# print(\"Cat\" != \"Dog\")\n",
        "# print(10 % 2 <= 2)\n",
        "# print(len(\"Cat\") == len(\"Dog\"))\n",
        "# print(3 < int(3.14))"
      ]
    },
    {
      "attachments": {},
      "cell_type": "markdown",
      "metadata": {
        "id": "f7Fb0CFHS_-t"
      },
      "source": [
        "<a id='s2'></a>\n",
        "## 2. Data types\n",
        "\n",
        "<a id='s2.1'></a>\n",
        "### 2.1 Basic data types\n",
        "\n",
        "As we have seen in the previous section, there are many different data types in Python. Four of the most common data types are called integers, floats, Booleans and strings. The table below describes each of these.\n",
        "\n",
        "| Symbol | Operator | Examples |\n",
        "|------|------|-----|\n",
        "|   Boolean (bool)  | Either True or False| 6 == 6 <br> 8.9 > 9.4 <br> ‘Cat’ != ‘Dog’|\n",
        "|   Integer (int)  | An integer | 5 |\n",
        "|   Float (float)  | A real number | 8 <br> 3.14 |\n",
        "|   String (str)  | A collection of symbols | \"the cat\" <br> \"1.23 213\" <br> \"!@$££W$I\"|\n",
        "\n",
        "#### Quiz\n",
        "\n",
        "What are the data types of the variables s,t,u,v,w,x below?"
      ]
    },
    {
      "cell_type": "code",
      "execution_count": 7,
      "metadata": {
        "id": "Gx4uE6JDS_-u"
      },
      "outputs": [],
      "source": [
        "s = 3\n",
        "t = \"Deloitte\"\n",
        "u = 3.1415\n",
        "v = 3 / 4\n",
        "w = 3 // 4\n",
        "x = 3 < 4"
      ]
    },
    {
      "attachments": {},
      "cell_type": "markdown",
      "metadata": {
        "id": "x64mBPU5S_-u"
      },
      "source": [
        "#### Answers\n",
        "\n",
        "To find the answers uncomment the next cell by highlighting all of the text and pressing ctrl (or command on mac) + /"
      ]
    },
    {
      "cell_type": "code",
      "execution_count": 9,
      "metadata": {
        "colab": {
          "base_uri": "https://localhost:8080/"
        },
        "id": "aEx0_fG6S_-u",
        "outputId": "001aefaf-287a-41e4-9d4b-fdd9a1cdfb34"
      },
      "outputs": [
        {
          "name": "stdout",
          "output_type": "stream",
          "text": [
            "s is type <class 'int'>\n"
          ]
        }
      ],
      "source": [
        "print(\"s is type\", type(s))\n",
        "# print(\"t is type\", type(t).__name__)\n",
        "# print(\"u is type\", type(u).__name__)\n",
        "# print(\"v is type\", type(v).__name__)\n",
        "# print(\"w is type\", type(w).__name__)\n",
        "# print(\"x is type\", type(x).__name__)"
      ]
    },
    {
      "attachments": {},
      "cell_type": "markdown",
      "metadata": {
        "id": "62-3rmv5S_-u"
      },
      "source": [
        "<a id='s2.2'></a>\n",
        "### 2.2 Lists\n",
        "\n",
        "Lists allow us to work with a list (surprise, surprise!) of values.\n",
        "\n",
        "Lists are mutable, which means that you can add or remove objects in them.\n",
        "\n",
        "#### Accessing elements in a list\n",
        "\n",
        "Elements in a list can be accessed by putting the index of the element in the list in square brackets after the name of the list. The index here just means the position at which it is stored in the list. In python, lists are 0-indexed, which means that the first value in a list has index 0.\n",
        "\n",
        "For example, `x[0]` returns the **first** element in the list `x`. You can also use negative indexes which start at the end of the list. `x[-1]` returns the **last** item in the list, `-2` would return the second from last element.\n",
        "\n",
        " `x[0:2]` returns what is known as a **slice** of the list, in this case the first and second items in the list only (notice that the slice is from 0 and up to but not including 2). Python assumes that you want to start from the beginning of the list, so you can use the shorthand notation `x[:2]` to achieve the same thing. Similarly, `x[2:]` will print everything from index 2 to the end of the list."
      ]
    },
    {
      "cell_type": "code",
      "execution_count": 2,
      "metadata": {
        "id": "OtKCQwZYY0pC"
      },
      "outputs": [],
      "source": [
        "x = [2, 2, 4, 4, 4, 5, 6]\n"
      ]
    },
    {
      "cell_type": "code",
      "execution_count": 6,
      "metadata": {
        "colab": {
          "base_uri": "https://localhost:8080/"
        },
        "id": "Cr0CcjneY2CM",
        "outputId": "a748e89f-b46e-4d97-a5a4-98904eecc0e1"
      },
      "outputs": [
        {
          "name": "stdout",
          "output_type": "stream",
          "text": [
            "[2, 2]\n",
            "CPU times: user 34 µs, sys: 7 µs, total: 41 µs\n",
            "Wall time: 38.1 µs\n"
          ]
        }
      ],
      "source": [
        "def find_element(orig_list: list, num: int)->list:\n",
        "  new_list=[]\n",
        "  for i in orig_list:\n",
        "    if i == num:\n",
        "      new_list.append(i)\n",
        "  return new_list\n",
        "%time print(find_element(x, 2))"
      ]
    },
    {
      "cell_type": "code",
      "execution_count": 7,
      "metadata": {
        "colab": {
          "base_uri": "https://localhost:8080/"
        },
        "id": "XUlRsFncY3wW",
        "outputId": "87cecf10-1ad1-4848-c3ee-f73429a54e02"
      },
      "outputs": [
        {
          "name": "stdout",
          "output_type": "stream",
          "text": [
            "[2, 2]\n",
            "CPU times: user 35 µs, sys: 4 µs, total: 39 µs\n",
            "Wall time: 39.8 µs\n"
          ]
        }
      ],
      "source": [
        "%time print(list(filter(lambda x: x==2, x)))"
      ]
    },
    {
      "cell_type": "code",
      "execution_count": 8,
      "metadata": {
        "colab": {
          "base_uri": "https://localhost:8080/"
        },
        "id": "Zc84lQrqY5ap",
        "outputId": "15b2b06d-7d57-4a20-8988-18ba25f69aaf"
      },
      "outputs": [
        {
          "name": "stdout",
          "output_type": "stream",
          "text": [
            "[2, 2]\n",
            "CPU times: user 28 µs, sys: 2 µs, total: 30 µs\n",
            "Wall time: 31 µs\n"
          ]
        }
      ],
      "source": [
        "%time print([n for n in x if n==2])"
      ]
    },
    {
      "cell_type": "code",
      "execution_count": 42,
      "metadata": {
        "id": "fXeI1srdS_-u"
      },
      "outputs": [],
      "source": [
        "### YOUR CODE HERE\n",
        "# Using the square bracket notation:\n",
        "# 1. Print all the 2s in the list\n",
        "\n",
        "# 2. Print all the 4s in the list\n",
        "\n",
        "# 3. Print all the 5s in the list\n",
        "\n",
        "# 4. Print all the 6s in the list\n",
        "###"
      ]
    },
    {
      "attachments": {},
      "cell_type": "markdown",
      "metadata": {
        "id": "GdJIuZ_VS_-u"
      },
      "source": [
        "#### List methods\n",
        "\n",
        "There are some handy methods that you can apply to lists that can make your life easier:"
      ]
    },
    {
      "cell_type": "code",
      "execution_count": null,
      "metadata": {
        "id": "wCtzk9j1S_-u",
        "outputId": "0007b64b-a70e-4a88-f64c-912aac3fe5e8"
      },
      "outputs": [
        {
          "name": "stdout",
          "output_type": "stream",
          "text": [
            "[2, 2, 4, 4, 4, 5, 6, 'cow']\n",
            "[2, 9, 2, 4, 4, 4, 5, 6, 'cow']\n",
            "[2, 9, 2, 4, 4, 4, 5, 6, 'cow', 5, 6, 7]\n"
          ]
        }
      ],
      "source": [
        "### ADDING VALUES TO A LIST\n",
        "x = [2, 2, 4, 4, 4, 5, 6]\n",
        "\n",
        "# append() adds an item to the end of the list\n",
        "x.append(\"cow\")\n",
        "print(x)\n",
        "\n",
        "# insert(x, y) inserts object y into position x in the list.\n",
        "x.insert(1, 9)\n",
        "print(x)\n",
        "\n",
        "# extend() adds a second list to the end of a first list.\n",
        "# Q: What would happen if you appended another_list to x?\n",
        "another_list = [5, 6, 7]\n",
        "x.extend(another_list)\n",
        "print(x)"
      ]
    },
    {
      "cell_type": "code",
      "execution_count": null,
      "metadata": {
        "id": "mbOQ_HC4S_-u",
        "outputId": "f82add14-992b-4216-e8d1-17ac6366c4ef"
      },
      "outputs": [
        {
          "name": "stdout",
          "output_type": "stream",
          "text": [
            "[2, 9, 2, 4, 4, 4, 5, 6, 5, 6, 7]\n",
            "[2, 9, 2, 4, 4, 4, 5, 6, 5, 6]\n",
            "Removed value: 6\n",
            "[2, 9, 2, 4, 4, 4, 5, 6, 5]\n"
          ]
        }
      ],
      "source": [
        "### REMOVING VALUES FROM A LIST\n",
        "\n",
        "# remove() removes an item from a list.\n",
        "x.remove(\"cow\")\n",
        "print(x)\n",
        "\n",
        "# pop() will remove the last value on the list by default.\n",
        "x.pop()\n",
        "print(x)\n",
        "# you can save the value that is removed form the list\n",
        "popped = x.pop()\n",
        "print('Removed value:', popped)\n",
        "print(x)"
      ]
    },
    {
      "cell_type": "code",
      "execution_count": null,
      "metadata": {
        "id": "_SvLNnVjS_-u",
        "outputId": "ee19f6e3-c2e4-4580-e0fd-b14b1725cf29"
      },
      "outputs": [
        {
          "name": "stdout",
          "output_type": "stream",
          "text": [
            "[2, 9, 2, 4, 4, 4, 5, 6, 5]\n",
            "[5, 6, 5, 4, 4, 4, 2, 9, 2]\n",
            "[2, 2, 4, 4, 4, 5, 5, 6, 9]\n",
            "[9, 6, 5, 5, 4, 4, 4, 2, 2]\n",
            "[2, 2, 4, 4, 4, 5, 5, 6, 9]\n"
          ]
        }
      ],
      "source": [
        "### CHANGING THE ORDER OF VALUES\n",
        "print(x)\n",
        "# reverse() reverses the values\n",
        "x.reverse()\n",
        "print(x)\n",
        "# sort() sorts the values in ascending/alphabetical order\n",
        "x.sort()\n",
        "print(x)\n",
        "# or if you want to sort it the other way round\n",
        "x.sort(reverse=True)\n",
        "print(x)\n",
        "# or if you don't want to alter your original list\n",
        "sorted_x = sorted(x)\n",
        "print(sorted_x)"
      ]
    },
    {
      "cell_type": "code",
      "execution_count": 43,
      "metadata": {
        "colab": {
          "base_uri": "https://localhost:8080/"
        },
        "id": "w5Ob0eJ6ZEsm",
        "outputId": "25971ffe-a69d-4695-fc37-f05b9e84aad7"
      },
      "outputs": [
        {
          "name": "stdout",
          "output_type": "stream",
          "text": [
            "CPU times: user 4 µs, sys: 0 ns, total: 4 µs\n",
            "Wall time: 6.91 µs\n"
          ]
        }
      ],
      "source": [
        "%time x.sort()"
      ]
    },
    {
      "cell_type": "code",
      "execution_count": 45,
      "metadata": {
        "colab": {
          "base_uri": "https://localhost:8080/"
        },
        "id": "K54xljo0ZIwQ",
        "outputId": "045f727a-ddd3-47d1-af6c-0ad9cc117d9f"
      },
      "outputs": [
        {
          "name": "stdout",
          "output_type": "stream",
          "text": [
            "CPU times: user 6 µs, sys: 0 ns, total: 6 µs\n",
            "Wall time: 11.2 µs\n"
          ]
        },
        {
          "data": {
            "text/plain": [
              "[2, 2, 4, 4, 4, 5, 6]"
            ]
          },
          "execution_count": 45,
          "metadata": {},
          "output_type": "execute_result"
        }
      ],
      "source": [
        "%time sorted(x)"
      ]
    },
    {
      "cell_type": "code",
      "execution_count": null,
      "metadata": {
        "id": "cdq_ofWgS_-u",
        "outputId": "0f2eb31b-a06d-4c55-f627-eadfae9cc447"
      },
      "outputs": [
        {
          "name": "stdout",
          "output_type": "stream",
          "text": [
            "There are 3 fours in the list\n",
            "The list has 9 elements.\n",
            "The sum of all elements in the list is: 41\n",
            "The min is: 2\n",
            "The max is: 9\n"
          ]
        }
      ],
      "source": [
        "### OTHER USEFUL BUILT IN FUNCTIONS\n",
        "\n",
        "# count() counts the number of an item in a list\n",
        "print(\"There are\", x.count(4), \"fours in the list\")\n",
        "\n",
        "# len() returns the length of the list\n",
        "print(\"The list has\", len(x), \"elements.\")\n",
        "\n",
        "# min(), max(), sum() do what you think!\n",
        "print(\"The sum of all elements in the list is:\", sum(x))\n",
        "print(\"The min is:\", min(x))\n",
        "print(\"The max is:\", max(x))"
      ]
    },
    {
      "attachments": {},
      "cell_type": "markdown",
      "metadata": {
        "id": "QzgcjJRKS_-u"
      },
      "source": [
        "<a id='s2.1'></a>\n",
        "### Lists quiz\n",
        "\n",
        "1. The daily sales for \"Hola coffee bar\" over a working week are `£123, £133, £125, £144, and £145`. Create a list of floats called `sales` that represents this data.\n",
        "1. What are the mean daily sales?\n",
        "1. The next days sales are `£200`, add this to the list.\n",
        "1. You are told that the sales on one day were incorrect, instead of £144 it was actually £146. Correct this in the list."
      ]
    },
    {
      "cell_type": "code",
      "execution_count": 47,
      "metadata": {
        "colab": {
          "base_uri": "https://localhost:8080/"
        },
        "id": "YhpNRyZ9S_-u",
        "outputId": "76c7af28-b408-43cf-fd27-201d05c9a849"
      },
      "outputs": [
        {
          "name": "stdout",
          "output_type": "stream",
          "text": [
            "134.0\n",
            "[123, 133, 125, 146, 145, 200]\n"
          ]
        }
      ],
      "source": [
        "### Answer:\n",
        "\n",
        "# Q1\n",
        "## 1 line of code ##\n",
        "sales = [123, 133, 125, 144, 145]\n",
        "\n",
        "# Q2\n",
        "## 1 line of code ##\n",
        "print(sum(sales)/len(sales))\n",
        "\n",
        "# Q3\n",
        "## 1 line of code ##\n",
        "sales.append(200)\n",
        "\n",
        "# Q4\n",
        "## 3 lines of code ##\n",
        "sales[-3] = 146\n",
        "print(sales)"
      ]
    },
    {
      "attachments": {},
      "cell_type": "markdown",
      "metadata": {
        "id": "weGxutO1S_-u"
      },
      "source": [
        "<a id='s2.3'></a>\n",
        "### 2.3. Tuples\n",
        "\n",
        "Tuples are very similar to lists with one big exception - you can't modify them (they are immutable).\n",
        "\n",
        "Immutable objects can be useful if you don't want to modify objects by mistake.\n",
        "\n",
        "This property of tuples means that there are fewer methods that you can apply to them compared to lists."
      ]
    },
    {
      "cell_type": "code",
      "execution_count": null,
      "metadata": {
        "id": "XBtbZQuZS_-v",
        "outputId": "fa297687-f54a-4d87-e84a-e223c6a8d4c0"
      },
      "outputs": [
        {
          "name": "stdout",
          "output_type": "stream",
          "text": [
            "['Python', 'MATLAB', 'SQL']\n"
          ]
        }
      ],
      "source": [
        "list_1 = ['Python', 'R', 'SQL']\n",
        "list_2 = list_1\n",
        "list_1[1] = 'MATLAB'\n",
        "print(list_2)"
      ]
    },
    {
      "cell_type": "code",
      "execution_count": null,
      "metadata": {
        "id": "f_ObNHh7S_-v",
        "outputId": "558ee461-416a-4127-d1bc-f0d98d3d5bfd"
      },
      "outputs": [
        {
          "ename": "TypeError",
          "evalue": "'tuple' object does not support item assignment",
          "output_type": "error",
          "traceback": [
            "\u001b[0;31m---------------------------------------------------------------------------\u001b[0m",
            "\u001b[0;31mTypeError\u001b[0m                                 Traceback (most recent call last)",
            "\u001b[0;32m<ipython-input-33-6360157ba4fb>\u001b[0m in \u001b[0;36m<module>\u001b[0;34m\u001b[0m\n\u001b[1;32m      2\u001b[0m \u001b[0mtuple_1\u001b[0m \u001b[0;34m=\u001b[0m \u001b[0;34m(\u001b[0m\u001b[0;34m'Python'\u001b[0m\u001b[0;34m,\u001b[0m \u001b[0;34m'R'\u001b[0m\u001b[0;34m,\u001b[0m \u001b[0;34m'SQL'\u001b[0m\u001b[0;34m)\u001b[0m\u001b[0;34m\u001b[0m\u001b[0;34m\u001b[0m\u001b[0m\n\u001b[1;32m      3\u001b[0m \u001b[0mtuple_2\u001b[0m \u001b[0;34m=\u001b[0m \u001b[0mtuple_1\u001b[0m\u001b[0;34m\u001b[0m\u001b[0;34m\u001b[0m\u001b[0m\n\u001b[0;32m----> 4\u001b[0;31m \u001b[0mtuple_1\u001b[0m\u001b[0;34m[\u001b[0m\u001b[0;36m1\u001b[0m\u001b[0;34m]\u001b[0m \u001b[0;34m=\u001b[0m \u001b[0;34m'MATLAB'\u001b[0m\u001b[0;34m\u001b[0m\u001b[0;34m\u001b[0m\u001b[0m\n\u001b[0m\u001b[1;32m      5\u001b[0m \u001b[0mprint\u001b[0m\u001b[0;34m(\u001b[0m\u001b[0mtuple_2\u001b[0m\u001b[0;34m)\u001b[0m\u001b[0;34m\u001b[0m\u001b[0;34m\u001b[0m\u001b[0m\n",
            "\u001b[0;31mTypeError\u001b[0m: 'tuple' object does not support item assignment"
          ]
        }
      ],
      "source": [
        "# Tuples are created using round brackets\n",
        "tuple_1 = ('Python', 'R', 'SQL')\n",
        "tuple_2 = tuple_1\n",
        "tuple_1[1] = 'MATLAB'\n",
        "print(tuple_2)"
      ]
    },
    {
      "attachments": {},
      "cell_type": "markdown",
      "metadata": {
        "id": "-PFJ932US_-v"
      },
      "source": [
        "Slicing and indexing also works on tuples:"
      ]
    },
    {
      "cell_type": "code",
      "execution_count": null,
      "metadata": {
        "id": "pJdQc94iS_-v",
        "outputId": "fea19de0-8480-41ae-d023-dc417f8570d9"
      },
      "outputs": [
        {
          "name": "stdout",
          "output_type": "stream",
          "text": [
            "(9, 6, 5, 5, 4, 4, 4, 2, 2)\n",
            "5\n",
            "There is a 5 in position 2 of y.\n"
          ]
        }
      ],
      "source": [
        "y = tuple(x)\n",
        "print(y)\n",
        "\n",
        "# Slicing and indexing works in tuples as with lists\n",
        "print(y[2])\n",
        "\n",
        "# Index returns the index of an item in the tuple\n",
        "print('There is a 5 in position', y.index(5), \"of y.\")"
      ]
    },
    {
      "attachments": {},
      "cell_type": "markdown",
      "metadata": {
        "id": "kx4gKGwbS_-v"
      },
      "source": [
        "### Tuples quiz\n",
        "\n",
        "1. Create a tuple containing the days of the week called `d_o_w`.\n",
        "1. Print the name of today. Use an index to call it.\n",
        "1. You find a new tribe in the Amazon rainforest that has an 8 day week. Their extra day is called Funday and comes after Wednesday. Make a new tuple with this day.\n",
        "1. What index does Funday have?"
      ]
    },
    {
      "cell_type": "code",
      "execution_count": 48,
      "metadata": {
        "colab": {
          "base_uri": "https://localhost:8080/"
        },
        "id": "VwTAv-WtS_-v",
        "outputId": "acb62bcb-6238-4b40-919d-560cc729f480"
      },
      "outputs": [
        {
          "name": "stdout",
          "output_type": "stream",
          "text": [
            "4\n"
          ]
        }
      ],
      "source": [
        "# Q1\n",
        "## 1 line of code ##\n",
        "dow = ('M', 'T', 'W', 'T', 'F', 'S', 'S')\n",
        "\n",
        "# Q2\n",
        "## 1 line of code ##\n",
        "print(dow.index('F'))\n",
        "\n",
        "# Q3\n",
        "## 1 line of code ##\n",
        "\n",
        "# Q4\n",
        "## 1 line of code ##"
      ]
    },
    {
      "attachments": {},
      "cell_type": "markdown",
      "metadata": {
        "id": "utch8fr_S_-v"
      },
      "source": [
        "<a id='s2.4'></a>\n",
        "### 2.4 Sets\n",
        "\n",
        "A set is a collection of unique objects, denoted by curly brackets. `e.g. set([5,6,4,5,7,6,5]) == {4,5,6,7}`.\n",
        "\n",
        "The order of a set is not fixed."
      ]
    },
    {
      "cell_type": "code",
      "execution_count": null,
      "metadata": {
        "id": "TNbjhJEpS_-v",
        "outputId": "34c992a0-ca74-4cac-d1c4-38e6ea95f9fc"
      },
      "outputs": [
        {
          "name": "stdout",
          "output_type": "stream",
          "text": [
            "{'bald eagle', 'dog', 'cat', 'orangutan'}\n"
          ]
        }
      ],
      "source": [
        "set_1 = {'cat', 'dog', 'bald eagle', 'orangutan'}\n",
        "print(set_1)"
      ]
    },
    {
      "attachments": {},
      "cell_type": "markdown",
      "metadata": {
        "id": "jb-NAFJqS_-v"
      },
      "source": [
        "Some useful methods that can be applied to sets:"
      ]
    },
    {
      "cell_type": "code",
      "execution_count": null,
      "metadata": {
        "id": "Fumjy9WSS_-v",
        "outputId": "c0015255-a6c8-423a-b8f8-74a4e007a0f8"
      },
      "outputs": [
        {
          "name": "stdout",
          "output_type": "stream",
          "text": [
            "Is set_1 a subset of set_2? False\n",
            "set_1 and set_2 have the following common elements: {1, 4}\n",
            "Difference: {8, 5, 7}\n",
            "Union: {1, 4, 5, 6, 7, 8}\n"
          ]
        }
      ],
      "source": [
        "set_1 = {1, 4, 5, 7, 8}\n",
        "set_2 = {1, 4, 6}\n",
        "\n",
        "# set_1.issubset(set_2) tells us if set_1 is a subset of set_2\n",
        "print(\"Is set_1 a subset of set_2?\",set_1.issubset(set_2))\n",
        "\n",
        "# set_1.intersection(set_2) tells us the common members of set_1 and set_2\n",
        "print(\"set_1 and set_2 have the following common elements:\", set_1.intersection(set_2))\n",
        "\n",
        "# .difference() tells us the different between two sets.\n",
        "print('Difference:', set_1.difference(set_2))\n",
        "\n",
        "# .union() shows all the unique values in two sets\n",
        "print('Union:', set_1.union(set_2))"
      ]
    },
    {
      "attachments": {},
      "cell_type": "markdown",
      "metadata": {
        "id": "syozpV8JS_-v"
      },
      "source": [
        "### Sets quiz\n",
        "\n",
        "1. You have a list of letters, `dna_list` and want to see if it could represent a DNA sequence. How do you check? Note, only 4 distinct letters are used in DNA. `dna_list = ['a','c','c','c','c','c','t','g','r']`\n",
        "1. You have the following two lists of customers from two firms and you wish to find a list of common customers of both firms? <br> `list_1 = [ 'John', 'Melanie', 'Tony', 'Charlie', 'Jane', 'John']` <br> `list_2 = ['Jane', 'Rupert', 'John']`"
      ]
    },
    {
      "cell_type": "code",
      "execution_count": 51,
      "metadata": {
        "colab": {
          "base_uri": "https://localhost:8080/"
        },
        "id": "4l4n9ZfLS_-v",
        "outputId": "dee8bcb7-05ff-4523-ecaf-8d1a7ea582dd"
      },
      "outputs": [
        {
          "name": "stdout",
          "output_type": "stream",
          "text": [
            "{'Jane', 'John'}\n"
          ]
        }
      ],
      "source": [
        "# Q1\n",
        "## 2 lines of code ##\n",
        "dna_list=['a','c','c','c','c','c','t','g']\n",
        "assert len(set(dna_list)) == 4\n",
        "# Q2\n",
        "## 1 line of code ##\n",
        "print({'John', 'Melanie', 'Tony', 'Charlie', 'Jane', 'John'}.intersection({'Jane', 'Rupert', 'John'}))\n"
      ]
    },
    {
      "attachments": {},
      "cell_type": "markdown",
      "metadata": {
        "id": "8Ix4Y6ZiS_-v"
      },
      "source": [
        "# HELP!\n",
        "\n",
        "Help on any item in python can be found by typing the help() command.\n",
        "\n",
        "Alternatively - use google!"
      ]
    },
    {
      "cell_type": "code",
      "execution_count": null,
      "metadata": {
        "id": "_OaZgFSES_-v",
        "outputId": "fd41a27f-40b5-4ae7-b3b2-fedccb18c1a1"
      },
      "outputs": [
        {
          "name": "stdout",
          "output_type": "stream",
          "text": [
            "Help on list object:\n",
            "\n",
            "class list(object)\n",
            " |  list() -> new empty list\n",
            " |  list(iterable) -> new list initialized from iterable's items\n",
            " |  \n",
            " |  Methods defined here:\n",
            " |  \n",
            " |  __add__(self, value, /)\n",
            " |      Return self+value.\n",
            " |  \n",
            " |  __contains__(self, key, /)\n",
            " |      Return key in self.\n",
            " |  \n",
            " |  __delitem__(self, key, /)\n",
            " |      Delete self[key].\n",
            " |  \n",
            " |  __eq__(self, value, /)\n",
            " |      Return self==value.\n",
            " |  \n",
            " |  __ge__(self, value, /)\n",
            " |      Return self>=value.\n",
            " |  \n",
            " |  __getattribute__(self, name, /)\n",
            " |      Return getattr(self, name).\n",
            " |  \n",
            " |  __getitem__(...)\n",
            " |      x.__getitem__(y) <==> x[y]\n",
            " |  \n",
            " |  __gt__(self, value, /)\n",
            " |      Return self>value.\n",
            " |  \n",
            " |  __iadd__(self, value, /)\n",
            " |      Implement self+=value.\n",
            " |  \n",
            " |  __imul__(self, value, /)\n",
            " |      Implement self*=value.\n",
            " |  \n",
            " |  __init__(self, /, *args, **kwargs)\n",
            " |      Initialize self.  See help(type(self)) for accurate signature.\n",
            " |  \n",
            " |  __iter__(self, /)\n",
            " |      Implement iter(self).\n",
            " |  \n",
            " |  __le__(self, value, /)\n",
            " |      Return self<=value.\n",
            " |  \n",
            " |  __len__(self, /)\n",
            " |      Return len(self).\n",
            " |  \n",
            " |  __lt__(self, value, /)\n",
            " |      Return self<value.\n",
            " |  \n",
            " |  __mul__(self, value, /)\n",
            " |      Return self*value.\n",
            " |  \n",
            " |  __ne__(self, value, /)\n",
            " |      Return self!=value.\n",
            " |  \n",
            " |  __new__(*args, **kwargs) from builtins.type\n",
            " |      Create and return a new object.  See help(type) for accurate signature.\n",
            " |  \n",
            " |  __repr__(self, /)\n",
            " |      Return repr(self).\n",
            " |  \n",
            " |  __reversed__(...)\n",
            " |      L.__reversed__() -- return a reverse iterator over the list\n",
            " |  \n",
            " |  __rmul__(self, value, /)\n",
            " |      Return value*self.\n",
            " |  \n",
            " |  __setitem__(self, key, value, /)\n",
            " |      Set self[key] to value.\n",
            " |  \n",
            " |  __sizeof__(...)\n",
            " |      L.__sizeof__() -- size of L in memory, in bytes\n",
            " |  \n",
            " |  append(...)\n",
            " |      L.append(object) -> None -- append object to end\n",
            " |  \n",
            " |  clear(...)\n",
            " |      L.clear() -> None -- remove all items from L\n",
            " |  \n",
            " |  copy(...)\n",
            " |      L.copy() -> list -- a shallow copy of L\n",
            " |  \n",
            " |  count(...)\n",
            " |      L.count(value) -> integer -- return number of occurrences of value\n",
            " |  \n",
            " |  extend(...)\n",
            " |      L.extend(iterable) -> None -- extend list by appending elements from the iterable\n",
            " |  \n",
            " |  index(...)\n",
            " |      L.index(value, [start, [stop]]) -> integer -- return first index of value.\n",
            " |      Raises ValueError if the value is not present.\n",
            " |  \n",
            " |  insert(...)\n",
            " |      L.insert(index, object) -- insert object before index\n",
            " |  \n",
            " |  pop(...)\n",
            " |      L.pop([index]) -> item -- remove and return item at index (default last).\n",
            " |      Raises IndexError if list is empty or index is out of range.\n",
            " |  \n",
            " |  remove(...)\n",
            " |      L.remove(value) -> None -- remove first occurrence of value.\n",
            " |      Raises ValueError if the value is not present.\n",
            " |  \n",
            " |  reverse(...)\n",
            " |      L.reverse() -- reverse *IN PLACE*\n",
            " |  \n",
            " |  sort(...)\n",
            " |      L.sort(key=None, reverse=False) -> None -- stable sort *IN PLACE*\n",
            " |  \n",
            " |  ----------------------------------------------------------------------\n",
            " |  Data and other attributes defined here:\n",
            " |  \n",
            " |  __hash__ = None\n",
            "\n"
          ]
        }
      ],
      "source": [
        "help(x)"
      ]
    },
    {
      "attachments": {},
      "cell_type": "markdown",
      "metadata": {
        "id": "WRYq2ne1S_-v"
      },
      "source": [
        "<a id='s2.5'></a>\n",
        "### 2.5 Dictionaries\n",
        "\n",
        "Dictionaries consist of a key and a value. Both can be any of the objects discussed so far.\n",
        "\n",
        "Dictionaries allow for recall of values associated with a particular key by using the square bracket notation we've seen before e.g. `dict_1['B'] = 4`.\n",
        "\n",
        "Very useful in data analysis, since most real life data is not tabular. E.g. customer data:\n",
        "\n",
        "```python\n",
        "customer = {'Name': 'John',\n",
        "            'Age': 49,\n",
        "\t        'Orders':{'12/3/19': ['apples', 'carrots', 'peas'],\n",
        "         \t\t          '15/5/19': ['tomatoes', 'apples']}}\n",
        "```\n",
        "\n",
        "#### How to form a dictionary\n",
        "\n",
        "1. Start with empty dictionary and update\n",
        "```python\n",
        "cust_dict = {}\n",
        "cust_dict.update({'Name': 'John', 'Age': 49})\n",
        "```\n",
        "1. From a list of tuples\n",
        "```python\n",
        "tuple_list = [('A', 'Alpha'), ('B', 'Bravo'), ('C', 'Charlie')]\n",
        "phonetic_dict = dict(tuple_list)\n",
        "```\n",
        "1. Use the built in zip function to form tuple list from two lists:\n",
        "```python\n",
        "l1 = ['A', 'B', 'C']\n",
        "l2 = ['Alpha', 'Bravo', 'Charlie']\n",
        "phonetic_dict = dict(zip(l1,l2))\n",
        "```\n",
        "1. Use a for loop - more to follow...\n",
        "\n",
        "#### More useful methods"
      ]
    },
    {
      "cell_type": "code",
      "execution_count": null,
      "metadata": {
        "id": "TvAwZv1fS_-v",
        "outputId": "6212b8b3-cea0-481c-f2d9-329153d219e7"
      },
      "outputs": [
        {
          "name": "stdout",
          "output_type": "stream",
          "text": [
            "{'A': 'Alpha', 'B': 'Bravo', 'C': 'Charlie'}\n",
            "{'B': 'Bravo', 'C': 'Charlie'}\n",
            "{'C': 'Charlie'}\n"
          ]
        }
      ],
      "source": [
        "l1 = ['A', 'B', 'C']\n",
        "l2 = ['Alpha', 'Bravo', 'Charlie']\n",
        "phonetic_dict = dict(zip(l1,l2))\n",
        "print(phonetic_dict)\n",
        "\n",
        "### REMOVE VALUES\n",
        "\n",
        "# del() method\n",
        "del(phonetic_dict['A'])\n",
        "print(phonetic_dict)\n",
        "\n",
        "# pop() method\n",
        "phonetic_dict.pop('B')\n",
        "print(phonetic_dict)"
      ]
    },
    {
      "cell_type": "code",
      "execution_count": null,
      "metadata": {
        "id": "j0sy1w7AS_-4",
        "outputId": "118e9925-3961-43cb-8d6b-749b746939bf"
      },
      "outputs": [
        {
          "name": "stdout",
          "output_type": "stream",
          "text": [
            "3\n",
            "dict_keys(['A', 'B', 'C'])\n",
            "dict_values(['Alpha', 'Bravo', 'Charlie'])\n",
            "dict_items([('A', 'Alpha'), ('B', 'Bravo'), ('C', 'Charlie')])\n"
          ]
        }
      ],
      "source": [
        "### OTHER USEFUL METHODS\n",
        "l1 = ['A', 'B', 'C']\n",
        "l2 = ['Alpha', 'Bravo', 'Charlie']\n",
        "phonetic_dict = dict(zip(l1,l2))\n",
        "\n",
        "# len() gives the number of keys in the dictionary\n",
        "print(len(phonetic_dict))\n",
        "\n",
        "# .keys() gives all the keys in the dictionary\n",
        "print(phonetic_dict.keys())\n",
        "\n",
        "# .values() gives all the values in the dictionary\n",
        "print(phonetic_dict.values())\n",
        "\n",
        "# .items() gives keys and values in the dictionary\n",
        "print(phonetic_dict.items())"
      ]
    },
    {
      "attachments": {},
      "cell_type": "markdown",
      "metadata": {
        "id": "73vPpvmnS_-4"
      },
      "source": [
        "#### Dictionaries Quiz\n",
        "\n",
        "1. Make English-German translation dictionary by zipping these two lists together:\t<br> `eng_days = ['Monday', 'Tuesday', 'Wednesday', 'Thursday', 'Friday', 'Saturday', 'Sunday']` <br> `ger_days = ['Montag', 'Dienstag', 'Mittwoch', 'Donnerstag', 'Freitag', 'Samstag', 'Sommtag']`\n",
        "\n",
        "1. Print the German for Wednesday.\n",
        "1. Correct the spelling mistake by replacing 'Sommtag' with 'Sonntag'."
      ]
    },
    {
      "cell_type": "code",
      "execution_count": 57,
      "metadata": {
        "id": "AagjVzWbS_-4"
      },
      "outputs": [],
      "source": [
        "from itertools import zip_longest\n",
        "# Q1\n",
        "## 3 lines of code ##\n",
        "eng_days = ['Monday', 'Tuesday', 'Wednesday', 'Thursday', 'Friday', 'Saturday', 'Sunday', 'Funday']\n",
        "ger_days = ['Montag', 'Dienstag', 'Mittwoch', 'Donnerstag', 'Freitag', 'Samstag', 'Sommtag']\n",
        "\n",
        "days_dict = dict(zip_longest(eng_days, ger_days))\n",
        "# Q2\n",
        "## 1 line of code ##\n",
        "days_dict.get('Wednesday')\n",
        "\n",
        "# Q3\n",
        "## 1 line of code ##\n",
        "days_dict['Sunday'] = 'Sonntag'"
      ]
    },
    {
      "attachments": {},
      "cell_type": "markdown",
      "metadata": {
        "id": "MPZoSnh6S_-4"
      },
      "source": [
        "<a id='summary1'></a>\n",
        "## Summary\n",
        "- A computer program consists of a series of logical instruction followed in order by the computer.\n",
        "- During a program data types are generated and stored as variables in the computer memory.\n",
        "- Python uses range of data types including:\n",
        "    - Integers, Floats, Booleans and Strings\n",
        "    - Lists (mutable), tuples (immutable) and sets (unique)\n",
        "    - Dictionaries that consist of keys and values, both of which can be any of the above data types, including another dictionary.\n"
      ]
    },
    {
      "attachments": {},
      "cell_type": "markdown",
      "metadata": {
        "id": "gCbblDWPS_-4"
      },
      "source": [
        "<a id='s3'></a>\n",
        "## 3. Control Flows\n",
        "\n",
        "<a id='s3.1'></a>\n",
        "### 3.1 For loops\n",
        "\n",
        "Often the fundamental basis of most programs, a for loop is where program does the same task many times.\n",
        "\n",
        "In Python they are written as follows:\n",
        "\n",
        "```python\n",
        "for x in y:\n",
        "    # some command for python to execute indented four spaces\n",
        "    print(x)\n",
        "    \n",
        "```\n",
        "\n",
        "Let's look at a few simple for loops:"
      ]
    },
    {
      "cell_type": "code",
      "execution_count": null,
      "metadata": {
        "id": "WKUmPe4OS_-4",
        "outputId": "012f0289-dbb5-423b-c002-123008cfcc2c"
      },
      "outputs": [
        {
          "name": "stdout",
          "output_type": "stream",
          "text": [
            "0\n",
            "1\n",
            "2\n",
            "3\n"
          ]
        }
      ],
      "source": [
        "# Loop over a fixed number of integers\n",
        "for i in range(4):\n",
        "    print(i)"
      ]
    },
    {
      "cell_type": "code",
      "execution_count": null,
      "metadata": {
        "id": "wyZRnlhJS_-4",
        "outputId": "1d5ef008-bf1b-42da-90b4-102ae50c18b3"
      },
      "outputs": [
        {
          "name": "stdout",
          "output_type": "stream",
          "text": [
            "The cat sat on the mat.\n",
            "The dog sat on the mat.\n",
            "The arctic fox sat on the mat.\n"
          ]
        }
      ],
      "source": [
        "# Loop over list entries\n",
        "animals = ['cat', 'dog', 'arctic fox']\n",
        "for animal in animals:\n",
        "    print('The ' + animal + ' sat on the mat.')"
      ]
    },
    {
      "cell_type": "code",
      "execution_count": null,
      "metadata": {
        "id": "HbUk6EaeS_-4",
        "outputId": "1cd3d48c-b6d0-4d1e-facb-b60da03009dc"
      },
      "outputs": [
        {
          "name": "stdout",
          "output_type": "stream",
          "text": [
            "Index: 0\n",
            "Item: cat\n",
            "Index: 1\n",
            "Item: dog\n",
            "Index: 2\n",
            "Item: arctic fox\n",
            "End of for loop\n"
          ]
        }
      ],
      "source": [
        "# The enumerate function allows you to iterate over list entries and their index.\n",
        "for index, item in enumerate(animals):\n",
        "    print('Index:',index)\n",
        "    print('Item:', item)\n",
        "\n",
        "print('End of for loop')"
      ]
    },
    {
      "cell_type": "code",
      "execution_count": null,
      "metadata": {
        "id": "iApdzImVS_-4",
        "outputId": "03ecdff0-7797-47be-a2c2-08508e8af497"
      },
      "outputs": [
        {
          "name": "stdout",
          "output_type": "stream",
          "text": [
            "[0, 3, 6, 9]\n"
          ]
        }
      ],
      "source": [
        "# You can create a list using a for loop - this is called a 'list comprehension'\n",
        "list_2 = [3*i for i in range(4)]\n",
        "print(list_2)"
      ]
    },
    {
      "cell_type": "code",
      "execution_count": null,
      "metadata": {
        "id": "GVnqG-ZRS_-4",
        "outputId": "0360cfc2-3d68-483f-a603-b5588f1dd3e2"
      },
      "outputs": [
        {
          "name": "stdout",
          "output_type": "stream",
          "text": [
            "There are 3 cats\n",
            "There are 3 dogs\n",
            "There are 3 arctic foxs\n",
            "There are 3 cats\n",
            "There are 3 dogs\n",
            "There are 3 arctic foxs\n",
            "There are 3 cats\n",
            "There are 3 dogs\n",
            "There are 3 arctic foxs\n"
          ]
        }
      ],
      "source": [
        "# You can put loops within loops or ‘nested loops’.\n",
        "numbers = [10, 5, 184]\n",
        "\n",
        "for number in numbers:\n",
        "    for animal in animals:\n",
        "        print(f'There are {i} {animal}s')"
      ]
    },
    {
      "attachments": {},
      "cell_type": "markdown",
      "metadata": {
        "id": "ID55nvSJS_-4"
      },
      "source": [
        "#### For loops quiz\n",
        "\n",
        "1. Write a piece of code that prints the first 10 integers and their cubes.\n",
        "1. Write out ‘I will not waste chalk’ 100 times.\n",
        "\n",
        "![title](chalk.png)"
      ]
    },
    {
      "cell_type": "code",
      "execution_count": 59,
      "metadata": {
        "colab": {
          "base_uri": "https://localhost:8080/"
        },
        "id": "-fiJaE5IS_-4",
        "outputId": "b00095b7-7bb1-4935-ec76-a20d61f6f48b"
      },
      "outputs": [
        {
          "name": "stdout",
          "output_type": "stream",
          "text": [
            "orig: 1, cubed: 1\n",
            "orig: 2, cubed: 8\n",
            "orig: 3, cubed: 27\n",
            "orig: 4, cubed: 64\n",
            "orig: 5, cubed: 125\n",
            "orig: 6, cubed: 216\n",
            "orig: 7, cubed: 343\n",
            "orig: 8, cubed: 512\n",
            "orig: 9, cubed: 729\n",
            "orig: 10, cubed: 1000\n",
            "I will not waste chalk \n",
            "I will not waste chalk \n",
            "I will not waste chalk \n",
            "I will not waste chalk \n",
            "I will not waste chalk \n",
            "I will not waste chalk \n",
            "I will not waste chalk \n",
            "I will not waste chalk \n",
            "I will not waste chalk \n",
            "I will not waste chalk \n",
            "I will not waste chalk \n",
            "I will not waste chalk \n",
            "I will not waste chalk \n",
            "I will not waste chalk \n",
            "I will not waste chalk \n",
            "I will not waste chalk \n",
            "I will not waste chalk \n",
            "I will not waste chalk \n",
            "I will not waste chalk \n",
            "I will not waste chalk \n",
            "I will not waste chalk \n",
            "I will not waste chalk \n",
            "I will not waste chalk \n",
            "I will not waste chalk \n",
            "I will not waste chalk \n",
            "I will not waste chalk \n",
            "I will not waste chalk \n",
            "I will not waste chalk \n",
            "I will not waste chalk \n",
            "I will not waste chalk \n",
            "I will not waste chalk \n",
            "I will not waste chalk \n",
            "I will not waste chalk \n",
            "I will not waste chalk \n",
            "I will not waste chalk \n",
            "I will not waste chalk \n",
            "I will not waste chalk \n",
            "I will not waste chalk \n",
            "I will not waste chalk \n",
            "I will not waste chalk \n",
            "I will not waste chalk \n",
            "I will not waste chalk \n",
            "I will not waste chalk \n",
            "I will not waste chalk \n",
            "I will not waste chalk \n",
            "I will not waste chalk \n",
            "I will not waste chalk \n",
            "I will not waste chalk \n",
            "I will not waste chalk \n",
            "I will not waste chalk \n",
            "I will not waste chalk \n",
            "I will not waste chalk \n",
            "I will not waste chalk \n",
            "I will not waste chalk \n",
            "I will not waste chalk \n",
            "I will not waste chalk \n",
            "I will not waste chalk \n",
            "I will not waste chalk \n",
            "I will not waste chalk \n",
            "I will not waste chalk \n",
            "I will not waste chalk \n",
            "I will not waste chalk \n",
            "I will not waste chalk \n",
            "I will not waste chalk \n",
            "I will not waste chalk \n",
            "I will not waste chalk \n",
            "I will not waste chalk \n",
            "I will not waste chalk \n",
            "I will not waste chalk \n",
            "I will not waste chalk \n",
            "I will not waste chalk \n",
            "I will not waste chalk \n",
            "I will not waste chalk \n",
            "I will not waste chalk \n",
            "I will not waste chalk \n",
            "I will not waste chalk \n",
            "I will not waste chalk \n",
            "I will not waste chalk \n",
            "I will not waste chalk \n",
            "I will not waste chalk \n",
            "I will not waste chalk \n",
            "I will not waste chalk \n",
            "I will not waste chalk \n",
            "I will not waste chalk \n",
            "I will not waste chalk \n",
            "I will not waste chalk \n",
            "I will not waste chalk \n",
            "I will not waste chalk \n",
            "I will not waste chalk \n",
            "I will not waste chalk \n",
            "I will not waste chalk \n",
            "I will not waste chalk \n",
            "I will not waste chalk \n",
            "I will not waste chalk \n",
            "I will not waste chalk \n",
            "I will not waste chalk \n",
            "I will not waste chalk \n",
            "I will not waste chalk \n",
            "I will not waste chalk \n",
            "I will not waste chalk \n",
            "\n"
          ]
        }
      ],
      "source": [
        "# Q1\n",
        "## 2 lines of code ##\n",
        "for n in range(1, 11):\n",
        "  print(f\"orig: {n}, cubed: {n**3}\")\n",
        "# Q2\n",
        "## 2 lines of code ##\n",
        "print(\"I will not waste chalk \\n\"*100)"
      ]
    },
    {
      "attachments": {},
      "cell_type": "markdown",
      "metadata": {
        "id": "aSdqOVHHS_-4"
      },
      "source": [
        "#### Looping over dictionaries\n",
        "\n",
        "There are three ways to loop over a dictionary:\n",
        "\n",
        "1. Loop over the values - using `.values()`\n",
        "1. Loop over the keys - using `.keys()`\n",
        "1. Loop over both - using `.items()`"
      ]
    },
    {
      "cell_type": "code",
      "execution_count": null,
      "metadata": {
        "id": "edi8naFWS_-4",
        "outputId": "e52115ec-c18b-41b7-8af1-a6c4737d5934"
      },
      "outputs": [
        {
          "data": {
            "text/plain": [
              "{'001': {}, '002': {}, '003': {}}"
            ]
          },
          "execution_count": 49,
          "metadata": {},
          "output_type": "execute_result"
        }
      ],
      "source": [
        "list_1 = ['001', '002', '003' ]\n",
        "name = ['John', 'Sarah', 'Tim']\n",
        "age = [49, 32, 27]\n",
        "\n",
        "# dict.fromkeys() forms dictionary from list of keys.\n",
        "dict_1 = dict.fromkeys(list_1,{})\n",
        "\n",
        "dict_1"
      ]
    },
    {
      "cell_type": "code",
      "execution_count": null,
      "metadata": {
        "id": "vXrYzHf2S_-5",
        "outputId": "46637f9a-a85b-4283-aa7d-69570013f18b"
      },
      "outputs": [
        {
          "data": {
            "text/plain": [
              "{'001': {'Name': 'John', 'Age': 49},\n",
              " '002': {'Name': 'Sarah', 'Age': 32},\n",
              " '003': {'Name': 'Tim', 'Age': 27}}"
            ]
          },
          "execution_count": 50,
          "metadata": {},
          "output_type": "execute_result"
        }
      ],
      "source": [
        "# A for loop can be used to populate the dictionary\n",
        "for i, key in enumerate(list_1):\n",
        "     dict_1[key]={'Name': name[i], 'Age': age[i]}\n",
        "\n",
        "dict_1"
      ]
    },
    {
      "cell_type": "code",
      "execution_count": null,
      "metadata": {
        "id": "Vwatev32S_-5",
        "outputId": "5de39d72-d5c4-41a1-e0be-1d55de99f10a"
      },
      "outputs": [
        {
          "name": "stdout",
          "output_type": "stream",
          "text": [
            "value: {'Name': 'John', 'Age': 49}\n",
            "name: John\n",
            "value: {'Name': 'Sarah', 'Age': 32}\n",
            "name: Sarah\n",
            "value: {'Name': 'Tim', 'Age': 27}\n",
            "name: Tim\n"
          ]
        }
      ],
      "source": [
        "# Loop over the values\n",
        "for value in dict_1.values():\n",
        "    print('value:', value)\n",
        "    print('name:', value['Name'])"
      ]
    },
    {
      "cell_type": "code",
      "execution_count": null,
      "metadata": {
        "id": "i23vmiRLS_-5",
        "outputId": "69d69a74-f723-4035-8dd3-b3154f0fca1d"
      },
      "outputs": [
        {
          "name": "stdout",
          "output_type": "stream",
          "text": [
            "key: 001\n",
            "key: 002\n",
            "key: 003\n"
          ]
        }
      ],
      "source": [
        "# Loop over keys\n",
        "for key in dict_1.keys():\n",
        "    print('key:',key)"
      ]
    },
    {
      "cell_type": "code",
      "execution_count": null,
      "metadata": {
        "id": "SAPFlTa5S_-5",
        "outputId": "aef9254b-2b95-4a48-84ba-be7d6e6fc755"
      },
      "outputs": [
        {
          "name": "stdout",
          "output_type": "stream",
          "text": [
            "key: 001\n",
            "value: {'Name': 'John', 'Age': 49}\n",
            "key: 002\n",
            "value: {'Name': 'Sarah', 'Age': 32}\n",
            "key: 003\n",
            "value: {'Name': 'Tim', 'Age': 27}\n"
          ]
        }
      ],
      "source": [
        "# Loop over both\n",
        "for key, val in dict_1.items():\n",
        "    print('key:', key)\n",
        "    print('value:', val)"
      ]
    },
    {
      "attachments": {},
      "cell_type": "markdown",
      "metadata": {
        "id": "Nia62kU2S_-5"
      },
      "source": [
        "#### Quiz\n",
        "\n",
        "You are monitoring the stock levels for a drinks wholesaler that has the following products:\n",
        "`products_list = ['beer', 'wine', 'cider', 'whisky', 'ale', 'gin']`\n",
        "\n",
        "with the respective stock levels:\n",
        "`stock_levels = [127, 87, 34, 56, 134, 78]`\n",
        "\n",
        "and price per item:\n",
        "`product_price = [0.67, 0.78, 1.23, 1.45, 0.45, 2.15]`\n",
        "\n",
        "\n",
        "1. Form dictionaries, with names as keys, for stock levels and product prices.\n",
        "1. Form dictionary for value of stock by product name. Find total value of stock.\n",
        "1. A customer has the following order. Find the value of this sale and adjust the stock levels.\n",
        "`order = {'beer': 3, 'cider': 2, 'gin': 1}`"
      ]
    },
    {
      "cell_type": "code",
      "execution_count": 10,
      "metadata": {
        "id": "IItyYWs9S_-5"
      },
      "outputs": [
        {
          "name": "stdout",
          "output_type": "stream",
          "text": [
            "6.620000000000001\n",
            "{'ale': {'product_price': 0.45, 'stock_level': 134},\n",
            " 'beer': {'product_price': 0.67, 'stock_level': 124},\n",
            " 'cider': {'product_price': 1.23, 'stock_level': 32},\n",
            " 'gin': {'product_price': 2.15, 'stock_level': 77},\n",
            " 'whisky': {'product_price': 1.45, 'stock_level': 56},\n",
            " 'wine': {'product_price': 0.78, 'stock_level': 87}}\n"
          ]
        }
      ],
      "source": [
        "from pprint import pprint\n",
        "\n",
        "\n",
        "products_list = ['beer', 'wine', 'cider', 'whisky', 'ale', 'gin']\n",
        "stock_levels = [127, 87, 34, 56, 134, 78]\n",
        "product_price = [0.67, 0.78, 1.23, 1.45, 0.45, 2.15]\n",
        "\n",
        "# Q1\n",
        "## 2 lines of code ##\n",
        "nested_dict = {}\n",
        "for i in range(len(products_list)):\n",
        "    nested_dict[products_list[i]] = {\n",
        "        'stock_level': stock_levels[i],\n",
        "        'product_price': product_price[i]\n",
        "    }\n",
        "\n",
        "nested_dict.get('beer').get('stock_level')\n",
        "# Q2\n",
        "## 6 lines of code ##\n",
        "\n",
        "# Q3\n",
        "## 6 lines of code ##\n",
        "order = {'beer': 3, 'cider': 2, 'gin': 1}\n",
        "total_sales = 0\n",
        "for k, v in order.items():\n",
        "    total_sales += nested_dict.get(k).get('product_price') * v\n",
        "    nested_dict[k]['stock_level'] -= v\n",
        "pprint(total_sales)\n",
        "pprint(nested_dict)"
      ]
    },
    {
      "attachments": {},
      "cell_type": "markdown",
      "metadata": {
        "id": "v2_xwYsqS_-5"
      },
      "source": [
        "<a id='s3.2'></a>\n",
        "### 3.2 If statements\n",
        "\n",
        "Does one thing if Boolean statement is true. Three versions:\n",
        "\n",
        "- `If` statement\n",
        "- `If`..`Else`\n",
        "- `If`..`Elif`...`Else`"
      ]
    },
    {
      "cell_type": "code",
      "execution_count": null,
      "metadata": {
        "id": "X0GVoP4VS_-5",
        "outputId": "f8e0b645-ec95-4a87-c606-8ecef1f00cf2"
      },
      "outputs": [
        {
          "name": "stdout",
          "output_type": "stream",
          "text": [
            "It's a cat\n",
            "Hello\n"
          ]
        }
      ],
      "source": [
        "# Try changing the definition of x to 'Dog' and then something else to see what happens\n",
        "x = 'Cat'\n",
        "\n",
        "if x == 'Cat':\n",
        "    print('It\\'s a cat')\n",
        "    if len(x) == 3:\n",
        "        print('Hello')"
      ]
    },
    {
      "cell_type": "code",
      "execution_count": null,
      "metadata": {
        "id": "51pec1_NS_-5",
        "outputId": "7fee576c-f836-479e-af01-b6b963fe1666"
      },
      "outputs": [
        {
          "name": "stdout",
          "output_type": "stream",
          "text": [
            "It's a cat\n"
          ]
        }
      ],
      "source": [
        "if x != 'Cat':\n",
        "    print('It\\'s not a cat')\n",
        "else:\n",
        "    print('It\\'s a cat')"
      ]
    },
    {
      "cell_type": "code",
      "execution_count": null,
      "metadata": {
        "id": "3uktHsWAS_-5",
        "outputId": "a3ff7586-bd0e-4913-d24d-991a7d5c76d8"
      },
      "outputs": [
        {
          "name": "stdout",
          "output_type": "stream",
          "text": [
            "It's a cat\n"
          ]
        }
      ],
      "source": [
        "if x == 'Cat':\n",
        "    print('It\\'s a cat')\n",
        "elif x == 'Dog':\n",
        "    print('It\\'s a dog')\n",
        "else:\n",
        "    print('I don\\'t know what it is, maybe a bald eagle?')"
      ]
    },
    {
      "cell_type": "code",
      "execution_count": null,
      "metadata": {
        "id": "ANqiMgXgS_-5",
        "outputId": "5337763b-6c98-44d0-984b-3e1125e68099"
      },
      "outputs": [
        {
          "name": "stdout",
          "output_type": "stream",
          "text": [
            "0\n"
          ]
        }
      ],
      "source": [
        "# variables can be conditionally assigned on one line\n",
        "x = 0\n",
        "rich = False\n",
        "x = 10000000 if rich else x\n",
        "print(x)"
      ]
    },
    {
      "attachments": {},
      "cell_type": "markdown",
      "metadata": {
        "id": "aHcm66G1S_-5"
      },
      "source": [
        "#### Quiz\n",
        "\n",
        "1. Write a short piece of code that prints the larger of two numbers.\n",
        "\n",
        "1. Write a short piece of code that checks if two words have the same first letter.\n",
        "\n",
        "1. Given the following dictionary of ages of retirees, print the names of those eligible for a bus pass (age > 65).\n",
        "\n",
        "`retiree_dict = {'John':62, 'Jane': 67, 'Doris':74, 'Malcom':81, 'Karen': 64, 'Tony':59}`"
      ]
    },
    {
      "cell_type": "code",
      "execution_count": 16,
      "metadata": {
        "id": "MAz4OdbJS_-5"
      },
      "outputs": [
        {
          "name": "stdout",
          "output_type": "stream",
          "text": [
            "34.0\n",
            "['Jane', 'Doris', 'Malcom']\n"
          ]
        }
      ],
      "source": [
        "number_1 = 34.\n",
        "number_2 = 23.1\n",
        "\n",
        "# Q1\n",
        "## 4-6 lines of code ##\n",
        "print(max(number_1,number_2))\n",
        "\n",
        "# Q2\n",
        "## 2 lines of code\n",
        "a=\"word_one\"\n",
        "b=\"word_two\"\n",
        "assert a[0] == b[0]\n",
        "\n",
        "# Q3\n",
        "## 5 lines of code\n",
        "retiree_dict = {'John':62, 'Jane': 67, 'Doris':74, 'Malcom':81, 'Karen': 64, 'Tony':59}\n",
        "eligible = [name for name, age in retiree_dict.items() if age>65]\n",
        "print(eligible)"
      ]
    },
    {
      "attachments": {},
      "cell_type": "markdown",
      "metadata": {
        "id": "Jfbfjog-S_-5"
      },
      "source": [
        "<a id='s3.3'></a>\n",
        "### 3.3 While statements\n",
        "\n",
        "Does something while a Boolean statement is true"
      ]
    },
    {
      "cell_type": "code",
      "execution_count": null,
      "metadata": {
        "id": "QL6uc66uS_-5",
        "outputId": "8371fede-e45d-45ee-cb77-dd11c2378b85"
      },
      "outputs": [
        {
          "name": "stdout",
          "output_type": "stream",
          "text": [
            "1\n",
            "2\n",
            "3\n",
            "4\n",
            "5\n",
            "6\n",
            "7\n",
            "8\n",
            "9\n",
            "10\n"
          ]
        }
      ],
      "source": [
        "x = 0\n",
        "while x < 10:\n",
        "    # x += 1 is equivalent to x = x + 1\n",
        "    x += 1\n",
        "    print(x)"
      ]
    },
    {
      "cell_type": "code",
      "execution_count": null,
      "metadata": {
        "id": "e7Y-5LpAS_-5"
      },
      "outputs": [],
      "source": [
        "# CAREFUL WITH WHILE LOOPS!!!\n",
        "# EXAMPLE OF AN INFINITE LOOP:\n",
        "# i = 2\n",
        "# j = 0\n",
        "# while i == 2:\n",
        "#     print(j)\n",
        "#     j += 1"
      ]
    },
    {
      "attachments": {},
      "cell_type": "markdown",
      "metadata": {
        "id": "ArdmMqbhS_-5"
      },
      "source": [
        "#### Quiz\n",
        "\n",
        "1. You have £50 pounds to spend on Friday night drinks in the Punch Tavern, but you need £7 for train ride home. You drink beers costing £4.49 until you only have £7 left, print your diminishing balance each time you buy a beer. How many beers did you drink?\n"
      ]
    },
    {
      "cell_type": "code",
      "execution_count": null,
      "metadata": {
        "id": "2OdhUo5MS_-5"
      },
      "outputs": [],
      "source": [
        "# Q1\n",
        "## 6 lines of code\n"
      ]
    },
    {
      "attachments": {},
      "cell_type": "markdown",
      "metadata": {
        "id": "vL01SXx5S_-5"
      },
      "source": [
        "<a id='s4'></a>\n",
        "## 4. Functions\n",
        "\n",
        "A function is piece of reusable code, 'independent' of main program.\n",
        "It takes in input(s) and returns output(s), but doesn't need to have either.\n",
        "\n",
        "```python\n",
        "def f(x):\n",
        "    '''It is good practice to write a comment\n",
        "    decribing what the function does here.'''\n",
        "    y = x + 7\n",
        "    return y\n",
        "```\n",
        "\n",
        "**Coding Tip**:\n",
        "Try to have the majority of your program in functions and try to ensure every function does just one thing."
      ]
    },
    {
      "cell_type": "code",
      "execution_count": null,
      "metadata": {
        "id": "SceeKJdWS_-6",
        "outputId": "ef3f6b10-48ad-4218-e8a4-9f0239ae9c42"
      },
      "outputs": [
        {
          "name": "stdout",
          "output_type": "stream",
          "text": [
            "[0, 3, 6, 9, 12, 15, 18, 21, 24, 27, 30, 33, 36, 39, 42, 45, 48, 51, 54, 57, 60, 63, 66, 69, 72, 75, 78, 81, 84, 87, 90, 93, 96, 99, 102, 105, 108, 111, 114, 117, 120, 123, 126, 129, 132, 135, 138, 141, 144, 147, 150, 153, 156, 159, 162, 165, 168, 171, 174, 177, 180, 183, 186, 189, 192, 195, 198, 201, 204, 207, 210, 213, 216, 219, 222, 225, 228, 231, 234, 237, 240, 243, 246, 249, 252, 255, 258, 261, 264, 267, 270, 273, 276, 279, 282, 285, 288, 291, 294, 297]\n",
            "12\n"
          ]
        },
        {
          "ename": "NameError",
          "evalue": "name 'answer' is not defined",
          "output_type": "error",
          "traceback": [
            "\u001b[0;31m---------------------------------------------------------------------------\u001b[0m",
            "\u001b[0;31mNameError\u001b[0m                                 Traceback (most recent call last)",
            "\u001b[0;32m<ipython-input-63-60fbddb2ba0f>\u001b[0m in \u001b[0;36m<module>\u001b[0;34m\u001b[0m\n\u001b[1;32m     13\u001b[0m \u001b[0;31m# Variables defined in modules don't exist in main program.\u001b[0m\u001b[0;34m\u001b[0m\u001b[0;34m\u001b[0m\u001b[0;34m\u001b[0m\u001b[0m\n\u001b[1;32m     14\u001b[0m \u001b[0;31m# This is the local vs. global distinction.\u001b[0m\u001b[0;34m\u001b[0m\u001b[0;34m\u001b[0m\u001b[0;34m\u001b[0m\u001b[0m\n\u001b[0;32m---> 15\u001b[0;31m \u001b[0mprint\u001b[0m\u001b[0;34m(\u001b[0m\u001b[0manswer\u001b[0m\u001b[0;34m)\u001b[0m\u001b[0;34m\u001b[0m\u001b[0;34m\u001b[0m\u001b[0m\n\u001b[0m",
            "\u001b[0;31mNameError\u001b[0m: name 'answer' is not defined"
          ]
        }
      ],
      "source": [
        "def function_name_1(x):\n",
        "    answer = x*3\n",
        "    return answer\n",
        "\n",
        "z = function_name_1(4)\n",
        "\n",
        "# Note the structure of the code below - this is known as a list comprehension\n",
        "z_list = [function_name_1(x) for x in range(0,100)]\n",
        "\n",
        "print(z_list)\n",
        "print(z)\n",
        "\n",
        "# Variables defined in modules don't exist in main program.\n",
        "# This is the local vs. global distinction.\n",
        "print(answer)"
      ]
    },
    {
      "cell_type": "code",
      "execution_count": null,
      "metadata": {
        "id": "hMhyR1N_S_-6",
        "outputId": "5671b737-3dbe-4e69-8bc7-386d8a1676ac"
      },
      "outputs": [
        {
          "name": "stdout",
          "output_type": "stream",
          "text": [
            "6\n",
            "Help on function function_name_2 in module __main__:\n",
            "\n",
            "function_name_2(a, b)\n",
            "    Returns the greater of two variables a and b.\n",
            "\n"
          ]
        }
      ],
      "source": [
        "# Good practice is to write a comment describing what a function does here.\n",
        "def function_name_2(a, b):\n",
        "    '''\n",
        "    Returns the greater of two variables a and b.\n",
        "    '''\n",
        "    if a > b:\n",
        "        return a\n",
        "    else:\n",
        "        return b\n",
        "\n",
        "print(function_name_2(4,6))\n",
        "\n",
        "# Help can be run on your function and will print the comment\n",
        "help(function_name_2)"
      ]
    },
    {
      "attachments": {},
      "cell_type": "markdown",
      "metadata": {
        "id": "KnGugnYYS_-6"
      },
      "source": [
        "### Quiz"
      ]
    },
    {
      "attachments": {},
      "cell_type": "markdown",
      "metadata": {
        "id": "ynJUgp9rS_-6"
      },
      "source": [
        "1. Write two functions, one finding the area of a triangle, given it's base and height, and the other the area of a circle given it's radius.\n",
        "1. Write a function that converts a 24 hour time string ('HH:MM:SS') into number of seconds since '00:00:00'.\n",
        "1. Write another function that converts seconds back to a 24 hour time string. (It is ok to output stings which are not of length 8, e.g. 'H:M:SS'.)\n"
      ]
    },
    {
      "cell_type": "code",
      "execution_count": 29,
      "metadata": {
        "id": "RZwXKhNLS_-6"
      },
      "outputs": [
        {
          "name": "stdout",
          "output_type": "stream",
          "text": [
            "338 ns ± 4.36 ns per loop (mean ± std. dev. of 7 runs, 1,000,000 loops each)\n",
            "639 ns ± 17.3 ns per loop (mean ± std. dev. of 7 runs, 1,000,000 loops each)\n",
            "76211\n",
            "21:10:11\n"
          ]
        }
      ],
      "source": [
        "from math import pi\n",
        "# Q1\n",
        "## 4 lines of code ##\n",
        "def calculate_triangle_area(b: float, h: float) -> float:\n",
        "    \"\"\"Calculates area of triangle given base and height.\"\"\"\n",
        "    return b*h/2\n",
        "\n",
        "def calculate_circle_area(r: float) -> float:\n",
        "    \"\"\"Calculates area of circle given radius.\"\"\"\n",
        "    return pi*r**2\n",
        "\n",
        "# Q2\n",
        "## 2 lines of code ##\n",
        "time_str = '21:10:11'.split(sep=\":\")\n",
        "%timeit total_seconds = int(time_str[0])*3600 + int(time_str[1])*60 + int(time_str[2])\n",
        "%timeit total_seconds = sum(int(time_string)*mult_factor for time_string, mult_factor in zip(time_str, [3600, 60, 1]))\n",
        "print(total_seconds)\n",
        "\n",
        "#Q3\n",
        "## 5 lines of code ##\n",
        "hours, remainder = divmod(total_seconds, 3600)\n",
        "minutes, seconds = divmod(remainder, 60)\n",
        "print(f\"{hours}:{minutes}:{seconds}\")"
      ]
    },
    {
      "attachments": {},
      "cell_type": "markdown",
      "metadata": {
        "id": "IXN-1C9rS_-6"
      },
      "source": [
        "<a id='s5'></a>\n",
        "## 5. Other useful features\n",
        "\n",
        "<a id='s5.1'></a>\n",
        "### 5.1 Exception handling\n",
        "\n",
        "Designed to catch errors and find work around to them. E.g."
      ]
    },
    {
      "cell_type": "code",
      "execution_count": null,
      "metadata": {
        "id": "Ab6jpIYMS_-6",
        "outputId": "889c3959-405d-414a-e857-2503d60d34b7"
      },
      "outputs": [
        {
          "name": "stdout",
          "output_type": "stream",
          "text": [
            "[0.8333333333333334, 0.2173913043478261, 0.0, 0.1111111111111111]\n"
          ]
        }
      ],
      "source": [
        "y = [1.2, 4.6, 0.0, 9.0]\n",
        "z = []\n",
        "for f in y:\n",
        "    try:\n",
        "        z.append(1.0/f)\n",
        "    except ZeroDivisionError:\n",
        "        z.append(0.0)\n",
        "print(z)"
      ]
    },
    {
      "attachments": {},
      "cell_type": "markdown",
      "metadata": {
        "id": "qzN93RO1S_-6"
      },
      "source": [
        "<a id='s5.2'></a>\n",
        "### 5.2 String formatting with f strings.\n",
        "\n",
        "You can insert values into a string by putting an f at the start of the string and the values in curly brackets."
      ]
    },
    {
      "cell_type": "code",
      "execution_count": null,
      "metadata": {
        "id": "Oh-f61TUS_-6",
        "outputId": "b0c78245-2b71-4ab6-ace9-370139fb45e0"
      },
      "outputs": [
        {
          "name": "stdout",
          "output_type": "stream",
          "text": [
            "His name is Kenny and he is 7.5 years old.\n"
          ]
        }
      ],
      "source": [
        "name = 'Kenny'\n",
        "age = 7.5\n",
        "print(f'His name is {name} and he is {age} years old.')"
      ]
    },
    {
      "attachments": {},
      "cell_type": "markdown",
      "metadata": {
        "id": "R5duAV1zS_-6"
      },
      "source": [
        "<a id='s5.3'></a>\n",
        "### 5.3 Lambda Functions\n",
        "\n",
        "Allow user to define 'mathematical' functions."
      ]
    },
    {
      "cell_type": "code",
      "execution_count": null,
      "metadata": {
        "id": "yyDsrwvTS_-6",
        "outputId": "e557ca8e-b67d-4861-ba50-7a74f42faf6a"
      },
      "outputs": [
        {
          "name": "stdout",
          "output_type": "stream",
          "text": [
            "30 21\n"
          ]
        }
      ],
      "source": [
        "f = lambda x: x**2 + 5\n",
        "print(f(5), f(4))"
      ]
    },
    {
      "attachments": {},
      "cell_type": "markdown",
      "metadata": {
        "id": "F5ElKuotS_-6"
      },
      "source": [
        "Can be used within modules:"
      ]
    },
    {
      "cell_type": "code",
      "execution_count": null,
      "metadata": {
        "id": "zzUpxyezS_-6",
        "outputId": "cc8afd8c-5bfe-4f2a-fbc5-ba6dd085696d"
      },
      "outputs": [
        {
          "name": "stdout",
          "output_type": "stream",
          "text": [
            "8 20\n",
            "20 30\n"
          ]
        }
      ],
      "source": [
        "def create_multiplier(n):\n",
        "    return lambda x: x*n\n",
        "\n",
        "m4 = create_multiplier(4)\n",
        "m5 = create_multiplier(5)\n",
        "\n",
        "print(m4(2), m4(5))\n",
        "print(m5(4), m5(6))"
      ]
    },
    {
      "attachments": {},
      "cell_type": "markdown",
      "metadata": {
        "id": "M7WapjF0S_-6"
      },
      "source": [
        "<a id='summary2'></a>\n",
        "## 6. Summary\n",
        "- Loops allow for a set of instructions to be repeated many times.\n",
        "- For loops can run over:\n",
        "    - A range of integers\n",
        "    - The values of a list, tuple or set\n",
        "    - The indices and values of a list, tuple or set, using enumerate\n",
        "    - The keys, values or keys & values of a dictionary.\n",
        "- If statements allow for decisions to be made based on Boolean statements.\n",
        "- While loops will repeat instruction when Boolean is True.\n",
        "\n",
        "<a id='s7'></a>\n",
        "## 7. Exercise 1\n",
        "\n",
        "Time to put everything you've learned so far into practice! See how many of the following questions you can do in the next 30 minutes.\n",
        "\n",
        "### Questions\n",
        "\n",
        "1. Write a program to find how many letters are in an inputted string.\n",
        "\n",
        "1. Modify the program in Q1 to also print the first and last letter in inputted string.\n",
        "\n",
        "1.\tWrite a program that reads in a list of names and outputs a list of all the unique names.\n",
        "\n",
        "1.\tModify the program in Q3 to output the longest name.\n",
        "\n",
        "1.\tWrite a program that inputs two lists, and tells you:\n",
        "    - the elements in the first list but not the second;\n",
        "    - the elements in both lists;\n",
        "    - the elements in the second list but not the first.\n",
        "    \n",
        "1.\tWrite a program that inputs a list of numbers and multiplies each element by 10.\n",
        "\n",
        "1.\tWrite a program that finds the smallest entry in a list of numbers.\n",
        "\n",
        "1. Write a dictionary of the names and a guess at the ages of everyone on the course.\n",
        "\n",
        "1. Write a program that outputs the name of the oldest person in the dictionary in Q8.\n",
        "\n",
        "1. Write a dictionary with integers from 1 to a 100 as keys and the square of these numbers as values.\n",
        "\n",
        "1. Write a program to check if an inputted string is a palindrome (a word or phrase spelt the same forwards and backwards e.g. racecar or ‘Never odd or even’).\n",
        "\n",
        "1. Write a program to output the first 50 entries of the Fibonacci Series, in which the next number in the series is found by adding the previous two.\n"
      ]
    },
    {
      "cell_type": "code",
      "execution_count": 20,
      "metadata": {
        "id": "zNpQjh3iS_-6"
      },
      "outputs": [
        {
          "name": "stdout",
          "output_type": "stream",
          "text": [
            "[1, 1, 2, 3, 5, 8, 13, 21, 34, 55]\n"
          ]
        },
        {
          "data": {
            "text/plain": [
              "55"
            ]
          },
          "execution_count": 20,
          "metadata": {},
          "output_type": "execute_result"
        }
      ],
      "source": [
        "# Question 1\n",
        "# ~ 2 lines of code\n",
        "def find_distinct_letters(letters:str)->int:\n",
        "    return len(set(letters))\n",
        "assert find_distinct_letters('asdff') == 4\n",
        "\n",
        "# Question 2\n",
        "# ~ 4 lines of code\n",
        "def find_distinct_letters(letters:str)->tuple[str, str]:\n",
        "    return letters[0], letters[-1]\n",
        "assert find_distinct_letters('asdfe') == ('a','e')\n",
        "\n",
        "# Question 3\n",
        "# ~ 2 lines of code\n",
        "def list_of_unique_names(names:list)->set:\n",
        "    return set(names)\n",
        "assert list_of_unique_names(['asdf', 'asdf', 'qwer']) == {'asdf', 'qwer'}\n",
        "\n",
        "# Question 4\n",
        "# ~ 7 lines of code\n",
        "def longest_names(names:list)->str:\n",
        "    # max_len=0\n",
        "    # for name in names:\n",
        "    #     if len(name) > max_len:\n",
        "    #         max_len = len(name)\n",
        "    #         res = name\n",
        "    # return res\n",
        "    return max(names)\n",
        "assert longest_names(['asdfasdfasdfasdf','asdf','asdfasdf', 'asdfasdfasdf']) == 'asdfasdfasdfasdf'\n",
        "\n",
        "\n",
        "# Question 5\n",
        "# ~ 5 lines of code\n",
        "def use_set(list_one: list, list_two: list) -> tuple[set]:\n",
        "    ele_one_not_two = set(list_one).difference(set(list_two))\n",
        "    ele_both = set(list_one).intersection(set(list_two))\n",
        "    ele_two_not_one = set(list_two).difference(set(list_one))\n",
        "    return (ele_one_not_two, ele_both, ele_two_not_one)\n",
        "assert use_set(['asdf','a','b'], ['asdf','c']) == ({'a','b'}, {'asdf'}, {'c'})\n",
        "\n",
        "# Question 6\n",
        "# ~ 2 lines of code\n",
        "def multiply_ten(l:list)->list:\n",
        "    return [ele*10 for ele in l]\n",
        "assert multiply_ten([1,2,3])==[10,20,30]\n",
        "\n",
        "# Question 7\n",
        "# ~ 2 lines of code\n",
        "def find_smallest(l:list)->int:\n",
        "    return min(l)\n",
        "assert find_smallest([1,2,3]) == 1\n",
        "\n",
        "# Question 8\n",
        "# ~ 5 lines of code\n",
        "course_attendees = {'a':21, 'b':22, 'c':33, 'd': 33, 'e': 18}\n",
        "\n",
        "# Question 9\n",
        "# ~ 9 lines of code\n",
        "def names_of_oldest(some_dict: dict)->list[str]:\n",
        "    return [k for k, v in some_dict.items() if v==max(some_dict.values())]\n",
        "assert names_of_oldest(course_attendees) == ['c','d']\n",
        "\n",
        "# Question 10\n",
        "# ~ 6 lines of code\n",
        "nums_dict = {n:n**2 for n in range(1, 101)}\n",
        "# nums_dict\n",
        "\n",
        "# Question 11\n",
        "# ~ 2 lines of code\n",
        "def is_palindrome_version_one(some_str: str)->bool:\n",
        "    some_str = some_str.replace(' ','').lower()\n",
        "    for i in range(len(some_str)//2):\n",
        "        if some_str[i] != some_str[-1-i]:\n",
        "            return False\n",
        "    return True\n",
        "\n",
        "def is_palindrome_version_two(some_str: str)->bool:\n",
        "    some_str = some_str.replace(' ','').lower()\n",
        "    return some_str == some_str[::-1]\n",
        "\n",
        "# %timeit is_palindrome_version_one('Never odd or even')\n",
        "# %timeit is_palindrome_version_two('Never odd or even')\n",
        "\n",
        "# Question 12\n",
        "# ~ 10 lines of code\n",
        "def fibonacci_series(num:int):\n",
        "    if num < 2:\n",
        "        raise ValueError(f\"Input '{num}' should be greater than 2 to calculate Fibonacci series.\")\n",
        "    res = [1, 1,]\n",
        "    for i in range(1, num-1):\n",
        "        res.append(res[i-1] + res[i])\n",
        "    return res\n",
        "\n",
        "def fibonacci(n):\n",
        "    if n<=0:\n",
        "        return 0\n",
        "    elif n == 1:\n",
        "        return 1\n",
        "    return fibonacci(n-2) + fibonacci(n-1)\n",
        "\n",
        "print(fibonacci_series(10))\n",
        "fibonacci(10)"
      ]
    },
    {
      "cell_type": "code",
      "execution_count": null,
      "metadata": {},
      "outputs": [],
      "source": []
    }
  ],
  "metadata": {
    "colab": {
      "provenance": []
    },
    "kernelspec": {
      "display_name": "Python 3",
      "language": "python",
      "name": "python3"
    },
    "language_info": {
      "codemirror_mode": {
        "name": "ipython",
        "version": 3
      },
      "file_extension": ".py",
      "mimetype": "text/x-python",
      "name": "python",
      "nbconvert_exporter": "python",
      "pygments_lexer": "ipython3",
      "version": "3.9.6"
    }
  },
  "nbformat": 4,
  "nbformat_minor": 0
}
